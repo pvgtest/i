{
 "cells": [
  {
   "cell_type": "code",
   "execution_count": 3,
   "id": "e90122ee-e711-47ec-82f7-c9716d9b115b",
   "metadata": {},
   "outputs": [],
   "source": [
    " import numpy as np\n",
    " import matplotlib.pyplot as plt"
   ]
  },
  {
   "cell_type": "code",
   "execution_count": 4,
   "id": "a8ac086f-1afa-467f-82fb-ef5a2f635309",
   "metadata": {},
   "outputs": [],
   "source": [
    " web_graph = {\n",
    "    'A': ['B', 'C'],\n",
    "    'B': ['C', 'D'],\n",
    "    'C': ['A', 'D'],\n",
    "    'D': ['C'],\n",
    "    'E': ['A', 'D'],\n",
    " }"
   ]
  },
  {
   "cell_type": "code",
   "execution_count": 5,
   "id": "2de7b4ca-f92f-48d0-9f7f-cc6b9680f1b0",
   "metadata": {},
   "outputs": [],
   "source": [
    "def pagerank(graph, d=0.85, tol=1e-6, max_iter=100):\n",
    "    \"\"\"\n",
    "    Computes PageRank for each node in the graph.\n",
    "    \n",
    "    Parameters:\n",
    "        graph (dict): A dictionary where each key is a node, and the value is a list of nodes that the key node links to.\n",
    "        d (float): Damping factor, typically set to 0.85.\n",
    "        tol (float): Tolerance level for convergence.\n",
    "        max_iter (int): Maximum number of iterations.\n",
    "        \n",
    "    Returns:\n",
    "        dict: PageRank values for each node in the graph.\n",
    "    \"\"\"\n",
    "    # Number of nodes in the graph\n",
    "    n = len(graph)\n",
    "    \n",
    "    # Initialize each page's rank with an equal distribution\n",
    "    ranks = {page: 1 / n for page in graph}\n",
    "    \n",
    "    for _ in range(max_iter):\n",
    "        new_ranks = {}\n",
    "        \n",
    "        # Calculate the rank for each page\n",
    "        for page in graph:\n",
    "            # Sum of ranks of pages linking to the current page\n",
    "            rank_sum = sum(ranks[other_page] / len(graph[other_page]) for other_page in graph if page in graph[other_page])\n",
    "            \n",
    "            # Update the rank with the damping factor\n",
    "            new_ranks[page] = (1 - d) / n + d * rank_sum\n",
    "        \n",
    "        # Check for convergence\n",
    "        if max(abs(new_ranks[page] - ranks[page]) for page in graph) < tol:\n",
    "            break\n",
    "        \n",
    "        # Update ranks for the next iteration\n",
    "        ranks = new_ranks\n",
    "    \n",
    "    return ranks\n",
    "\n",
    "\n"
   ]
  },
  {
   "cell_type": "code",
   "execution_count": 6,
   "id": "013e327d-d15c-4e08-970d-87ad3af48f98",
   "metadata": {},
   "outputs": [],
   "source": [
    "pagerank_scores = pagerank(web_graph)"
   ]
  },
  {
   "cell_type": "code",
   "execution_count": 7,
   "id": "7c3a3889-aae5-4e32-a865-01a4d7df7cdc",
   "metadata": {},
   "outputs": [],
   "source": [
    "sorted_pagerank = sorted(pagerank_scores.items(), key=lambda x: x[1], reverse=True)"
   ]
  },
  {
   "cell_type": "code",
   "execution_count": 8,
   "id": "a4888555-5dba-4d54-85b2-e58308a6f560",
   "metadata": {},
   "outputs": [
    {
     "name": "stdout",
     "output_type": "stream",
     "text": [
      "PageRank Scores:\n",
      "Page C: 0.3871\n",
      "Page D: 0.2575\n",
      "Page A: 0.2073\n",
      "Page B: 0.1181\n",
      "Page E: 0.0300\n"
     ]
    }
   ],
   "source": [
    "print(\"PageRank Scores:\")\n",
    "for page, score in sorted_pagerank:\n",
    "    print(f\"Page {page}: {score:.4f}\")"
   ]
  },
  {
   "cell_type": "code",
   "execution_count": 9,
   "id": "2b0a02c2-3a6c-4e7c-9d85-b4a0caedafe5",
   "metadata": {},
   "outputs": [],
   "source": [
    "import matplotlib.pyplot as plt\n",
    "\n",
    "def visualize_graph(graph, ranks):\n",
    "    \"\"\"\n",
    "    Visualizes a directed graph with nodes sized according to PageRank scores.\n",
    "    \n",
    "    Parameters:\n",
    "        graph (dict): A dictionary representing the graph, with nodes as keys and lists of linked nodes as values.\n",
    "        ranks (dict): A dictionary with PageRank scores for each node.\n",
    "    \"\"\"\n",
    "    # Define positions for each node (page) in the graph\n",
    "    positions = {\n",
    "        'A': (1, 2),\n",
    "        'B': (2, 3),\n",
    "        'C': (3, 2),\n",
    "        'D': (2, 1),\n",
    "        'E': (0, 1.5),\n",
    "    }\n",
    "    \n",
    "    # Create a figure and axis for plotting\n",
    "    fig, ax = plt.subplots()\n",
    "    \n",
    "    # Plot nodes (web pages) with sizes based on PageRank scores\n",
    "    for page, (x, y) in positions.items():\n",
    "        ax.scatter(x, y, s=ranks.get(page, 0) * 2000, color='skyblue', edgecolors='black', zorder=2,)\n",
    "        ax.text(x, y, page, fontsize=10, ha='center', va='center', zorder=3)\n",
    "    \n",
    "    # Plot edges (links between pages)\n",
    "    for page, links in graph.items():\n",
    "        for link in links:\n",
    "            start_pos = positions[page]\n",
    "            end_pos = positions[link]\n",
    "            ax.annotate(\"\",\n",
    "                        xy=end_pos, xytext=start_pos,\n",
    "                        arrowprops=dict(arrowstyle=\"->\", color='gray', lw=1.5),\n",
    "                        zorder=1)\n",
    "    \n",
    "    # Set limits and remove axis for a cleaner look\n",
    "    ax.set_xlim(-1, 4)\n",
    "    ax.set_ylim(0, 4)\n",
    "    ax.axis('off')\n",
    "    \n",
    "    # Show the plot\n",
    "    plt.show()\n"
   ]
  },
  {
   "cell_type": "code",
   "execution_count": 10,
   "id": "4677fbd5-1ce8-44f6-866a-4ab803b9464a",
   "metadata": {},
   "outputs": [
    {
     "data": {
      "image/png": "[encoded data removed]",
      "text/plain": [
       "<Figure size 640x480 with 1 Axes>"
      ]
     },
     "metadata": {},
     "output_type": "display_data"
    }
   ],
   "source": [
    "visualize_graph(web_graph, pagerank_scores)"
   ]
  },
  {
   "cell_type": "code",
   "execution_count": null,
   "id": "967bcbaf-2ab5-48a1-ba4d-8d8c894808e0",
   "metadata": {},
   "outputs": [],
   "source": []
  }
 ],
 "metadata": {
  "kernelspec": {
   "display_name": "Python 3 (ipykernel)",
   "language": "python",
   "name": "python3"
  },
  "language_info": {
   "codemirror_mode": {
    "name": "ipython",
    "version": 3
   },
   "file_extension": ".py",
   "mimetype": "text/x-python",
   "name": "python",
   "nbconvert_exporter": "python",
   "pygments_lexer": "ipython3",
   "version": "3.11.9"
  }
 },
 "nbformat": 4,
 "nbformat_minor": 5
}
