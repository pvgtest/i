{
 "cells": [
  {
   "cell_type": "code",
   "execution_count": 1,
   "id": "c33e1043-6d13-48a1-9cbe-fdc57ee0e748",
   "metadata": {},
   "outputs": [],
   "source": [
    " import requests\n",
    " from bs4 import BeautifulSoup\n",
    " import pandas as pd\n",
    " import time"
   ]
  },
  {
   "cell_type": "code",
   "execution_count": 3,
   "id": "021edf0f-d55e-4595-8265-9028aca61aec",
   "metadata": {},
   "outputs": [],
   "source": [
    "# Step 1: Choose the e-commerce website URL (Books to Scrape)\n",
    "url = 'https://books.toscrape.com/'"
   ]
  },
  {
   "cell_type": "code",
   "execution_count": 4,
   "id": "935178bd-7455-4d42-aa3b-8d0ffdd56321",
   "metadata": {},
   "outputs": [],
   "source": [
    " response = requests.get(url)\n",
    " soup = BeautifulSoup(response.text, 'html.parser')"
   ]
  },
  {
   "cell_type": "code",
   "execution_count": 5,
   "id": "91a3bcd9-3497-414a-ac47-e8996b7bc873",
   "metadata": {},
   "outputs": [],
   "source": [
    " books = []\n",
    " for item in soup.find_all('article', class_='product_pod'):\n",
    "    # Get book title\n",
    "    title = item.find('h3').text.strip()\n",
    "    \n",
    "    # Get book link\n",
    "    link = item.find('a')['href']\n",
    "    link = 'https://books.toscrape.com/' + link  # Add base URL to complete the lin\n",
    "    \n",
    "    # Get book price\n",
    "    price = item.find('p', class_='price_color').text.strip()\n",
    "    \n",
    "    # Append the extracted data into the books list\n",
    "    books.append({\n",
    "        'Book_Title': title,\n",
    "        'Price': price,\n",
    "        'Book_Link': link\n",
    "    })"
   ]
  },
  {
   "cell_type": "code",
   "execution_count": 7,
   "id": "03a854a8-7601-4b8f-89de-6050a0ceb499",
   "metadata": {},
   "outputs": [
    {
     "name": "stdout",
     "output_type": "stream",
     "text": [
      "                     Book_Title    Price  \\\n",
      "0            A Light in the ...  Â£51.77   \n",
      "1            Tipping the Velvet  Â£53.74   \n",
      "2                    Soumission  Â£50.10   \n",
      "3                 Sharp Objects  Â£47.82   \n",
      "4  Sapiens: A Brief History ...  Â£54.23   \n",
      "\n",
      "                                           Book_Link  \n",
      "0  https://books.toscrape.com/catalogue/a-light-i...  \n",
      "1  https://books.toscrape.com/catalogue/tipping-t...  \n",
      "2  https://books.toscrape.com/catalogue/soumissio...  \n",
      "3  https://books.toscrape.com/catalogue/sharp-obj...  \n",
      "4  https://books.toscrape.com/catalogue/sapiens-a...  \n"
     ]
    }
   ],
   "source": [
    "# Step 4: Create a DataFrame from the extracted data\n",
    "df = pd.DataFrame(books)\n",
    " # Step 5: Print the DataFrame to check the output\n",
    "print(df.head())"
   ]
  },
  {
   "cell_type": "code",
   "execution_count": 8,
   "id": "555cc21b-60b4-42f5-9ec8-6000674b89c3",
   "metadata": {},
   "outputs": [
    {
     "name": "stdout",
     "output_type": "stream",
     "text": [
      "20 books extracted and saved to books.csv.\n"
     ]
    }
   ],
   "source": [
    " # Step 6: Save the DataFrame to a CSV file\n",
    " df.to_csv('books.csv', index=False, encoding='utf-8')\n",
    " print(f'{len(books)} books extracted and saved to books.csv.')"
   ]
  },
  {
   "cell_type": "code",
   "execution_count": null,
   "id": "a946818c-9096-49f7-90f3-69b115e26c88",
   "metadata": {},
   "outputs": [],
   "source": []
  }
 ],
 "metadata": {
  "kernelspec": {
   "display_name": "Python 3 (ipykernel)",
   "language": "python",
   "name": "python3"
  },
  "language_info": {
   "codemirror_mode": {
    "name": "ipython",
    "version": 3
   },
   "file_extension": ".py",
   "mimetype": "text/x-python",
   "name": "python",
   "nbconvert_exporter": "python",
   "pygments_lexer": "ipython3",
   "version": "3.11.9"
  }
 },
 "nbformat": 4,
 "nbformat_minor": 5
}
